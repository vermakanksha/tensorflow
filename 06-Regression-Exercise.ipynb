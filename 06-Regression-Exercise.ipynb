{
 "cells": [
  {
   "cell_type": "markdown",
   "metadata": {},
   "source": [
    "# Regression Exercise \n",
    "\n",
    "California Housing Data\n",
    "\n",
    "This data set contains information about all the block groups in California from the 1990 Census. In this sample a block group on average includes 1425.5 individuals living in a geographically compact area. \n",
    "\n",
    "The task is to aproximate the median house value of each block from the values of the rest of the variables. \n",
    "\n",
    " It has been obtained from the LIACC repository. The original page where the data set can be found is: http://www.liaad.up.pt/~ltorgo/Regression/DataSets.html.\n",
    " "
   ]
  },
  {
   "cell_type": "markdown",
   "metadata": {
    "collapsed": true
   },
   "source": [
    "The Features:\n",
    " \n",
    "* housingMedianAge: continuous. \n",
    "* totalRooms: continuous. \n",
    "* totalBedrooms: continuous. \n",
    "* population: continuous. \n",
    "* households: continuous. \n",
    "* medianIncome: continuous. \n",
    "* medianHouseValue: continuous. "
   ]
  },
  {
   "cell_type": "markdown",
   "metadata": {},
   "source": [
    "## The Data"
   ]
  },
  {
   "cell_type": "markdown",
   "metadata": {},
   "source": [
    "** Import the cal_housing_clean.csv file with pandas. Separate it into a training (70%) and testing set(30%).**"
   ]
  },
  {
   "cell_type": "code",
   "execution_count": 1,
   "metadata": {
    "collapsed": true
   },
   "outputs": [],
   "source": [
    "import pandas as pd"
   ]
  },
  {
   "cell_type": "code",
   "execution_count": 2,
   "metadata": {
    "collapsed": true
   },
   "outputs": [],
   "source": [
    "housing = pd.read_csv(\"cal_housing_clean.csv\")"
   ]
  },
  {
   "cell_type": "code",
   "execution_count": 3,
   "metadata": {},
   "outputs": [
    {
     "data": {
      "text/html": [
       "<div>\n",
       "<style>\n",
       "    .dataframe thead tr:only-child th {\n",
       "        text-align: right;\n",
       "    }\n",
       "\n",
       "    .dataframe thead th {\n",
       "        text-align: left;\n",
       "    }\n",
       "\n",
       "    .dataframe tbody tr th {\n",
       "        vertical-align: top;\n",
       "    }\n",
       "</style>\n",
       "<table border=\"1\" class=\"dataframe\">\n",
       "  <thead>\n",
       "    <tr style=\"text-align: right;\">\n",
       "      <th></th>\n",
       "      <th>housingMedianAge</th>\n",
       "      <th>totalRooms</th>\n",
       "      <th>totalBedrooms</th>\n",
       "      <th>population</th>\n",
       "      <th>households</th>\n",
       "      <th>medianIncome</th>\n",
       "      <th>medianHouseValue</th>\n",
       "    </tr>\n",
       "  </thead>\n",
       "  <tbody>\n",
       "    <tr>\n",
       "      <th>0</th>\n",
       "      <td>41.0</td>\n",
       "      <td>880.0</td>\n",
       "      <td>129.0</td>\n",
       "      <td>322.0</td>\n",
       "      <td>126.0</td>\n",
       "      <td>8.3252</td>\n",
       "      <td>452600.0</td>\n",
       "    </tr>\n",
       "    <tr>\n",
       "      <th>1</th>\n",
       "      <td>21.0</td>\n",
       "      <td>7099.0</td>\n",
       "      <td>1106.0</td>\n",
       "      <td>2401.0</td>\n",
       "      <td>1138.0</td>\n",
       "      <td>8.3014</td>\n",
       "      <td>358500.0</td>\n",
       "    </tr>\n",
       "    <tr>\n",
       "      <th>2</th>\n",
       "      <td>52.0</td>\n",
       "      <td>1467.0</td>\n",
       "      <td>190.0</td>\n",
       "      <td>496.0</td>\n",
       "      <td>177.0</td>\n",
       "      <td>7.2574</td>\n",
       "      <td>352100.0</td>\n",
       "    </tr>\n",
       "    <tr>\n",
       "      <th>3</th>\n",
       "      <td>52.0</td>\n",
       "      <td>1274.0</td>\n",
       "      <td>235.0</td>\n",
       "      <td>558.0</td>\n",
       "      <td>219.0</td>\n",
       "      <td>5.6431</td>\n",
       "      <td>341300.0</td>\n",
       "    </tr>\n",
       "    <tr>\n",
       "      <th>4</th>\n",
       "      <td>52.0</td>\n",
       "      <td>1627.0</td>\n",
       "      <td>280.0</td>\n",
       "      <td>565.0</td>\n",
       "      <td>259.0</td>\n",
       "      <td>3.8462</td>\n",
       "      <td>342200.0</td>\n",
       "    </tr>\n",
       "  </tbody>\n",
       "</table>\n",
       "</div>"
      ],
      "text/plain": [
       "   housingMedianAge  totalRooms  totalBedrooms  population  households  \\\n",
       "0              41.0       880.0          129.0       322.0       126.0   \n",
       "1              21.0      7099.0         1106.0      2401.0      1138.0   \n",
       "2              52.0      1467.0          190.0       496.0       177.0   \n",
       "3              52.0      1274.0          235.0       558.0       219.0   \n",
       "4              52.0      1627.0          280.0       565.0       259.0   \n",
       "\n",
       "   medianIncome  medianHouseValue  \n",
       "0        8.3252          452600.0  \n",
       "1        8.3014          358500.0  \n",
       "2        7.2574          352100.0  \n",
       "3        5.6431          341300.0  \n",
       "4        3.8462          342200.0  "
      ]
     },
     "execution_count": 3,
     "metadata": {},
     "output_type": "execute_result"
    }
   ],
   "source": [
    "housing.head()"
   ]
  },
  {
   "cell_type": "code",
   "execution_count": 4,
   "metadata": {},
   "outputs": [
    {
     "data": {
      "text/html": [
       "<div>\n",
       "<style>\n",
       "    .dataframe thead tr:only-child th {\n",
       "        text-align: right;\n",
       "    }\n",
       "\n",
       "    .dataframe thead th {\n",
       "        text-align: left;\n",
       "    }\n",
       "\n",
       "    .dataframe tbody tr th {\n",
       "        vertical-align: top;\n",
       "    }\n",
       "</style>\n",
       "<table border=\"1\" class=\"dataframe\">\n",
       "  <thead>\n",
       "    <tr style=\"text-align: right;\">\n",
       "      <th></th>\n",
       "      <th>count</th>\n",
       "      <th>mean</th>\n",
       "      <th>std</th>\n",
       "      <th>min</th>\n",
       "      <th>25%</th>\n",
       "      <th>50%</th>\n",
       "      <th>75%</th>\n",
       "      <th>max</th>\n",
       "    </tr>\n",
       "  </thead>\n",
       "  <tbody>\n",
       "    <tr>\n",
       "      <th>housingMedianAge</th>\n",
       "      <td>20640.0</td>\n",
       "      <td>28.639486</td>\n",
       "      <td>12.585558</td>\n",
       "      <td>1.0000</td>\n",
       "      <td>18.0000</td>\n",
       "      <td>29.0000</td>\n",
       "      <td>37.00000</td>\n",
       "      <td>52.0000</td>\n",
       "    </tr>\n",
       "    <tr>\n",
       "      <th>totalRooms</th>\n",
       "      <td>20640.0</td>\n",
       "      <td>2635.763081</td>\n",
       "      <td>2181.615252</td>\n",
       "      <td>2.0000</td>\n",
       "      <td>1447.7500</td>\n",
       "      <td>2127.0000</td>\n",
       "      <td>3148.00000</td>\n",
       "      <td>39320.0000</td>\n",
       "    </tr>\n",
       "    <tr>\n",
       "      <th>totalBedrooms</th>\n",
       "      <td>20640.0</td>\n",
       "      <td>537.898014</td>\n",
       "      <td>421.247906</td>\n",
       "      <td>1.0000</td>\n",
       "      <td>295.0000</td>\n",
       "      <td>435.0000</td>\n",
       "      <td>647.00000</td>\n",
       "      <td>6445.0000</td>\n",
       "    </tr>\n",
       "    <tr>\n",
       "      <th>population</th>\n",
       "      <td>20640.0</td>\n",
       "      <td>1425.476744</td>\n",
       "      <td>1132.462122</td>\n",
       "      <td>3.0000</td>\n",
       "      <td>787.0000</td>\n",
       "      <td>1166.0000</td>\n",
       "      <td>1725.00000</td>\n",
       "      <td>35682.0000</td>\n",
       "    </tr>\n",
       "    <tr>\n",
       "      <th>households</th>\n",
       "      <td>20640.0</td>\n",
       "      <td>499.539680</td>\n",
       "      <td>382.329753</td>\n",
       "      <td>1.0000</td>\n",
       "      <td>280.0000</td>\n",
       "      <td>409.0000</td>\n",
       "      <td>605.00000</td>\n",
       "      <td>6082.0000</td>\n",
       "    </tr>\n",
       "    <tr>\n",
       "      <th>medianIncome</th>\n",
       "      <td>20640.0</td>\n",
       "      <td>3.870671</td>\n",
       "      <td>1.899822</td>\n",
       "      <td>0.4999</td>\n",
       "      <td>2.5634</td>\n",
       "      <td>3.5348</td>\n",
       "      <td>4.74325</td>\n",
       "      <td>15.0001</td>\n",
       "    </tr>\n",
       "    <tr>\n",
       "      <th>medianHouseValue</th>\n",
       "      <td>20640.0</td>\n",
       "      <td>206855.816909</td>\n",
       "      <td>115395.615874</td>\n",
       "      <td>14999.0000</td>\n",
       "      <td>119600.0000</td>\n",
       "      <td>179700.0000</td>\n",
       "      <td>264725.00000</td>\n",
       "      <td>500001.0000</td>\n",
       "    </tr>\n",
       "  </tbody>\n",
       "</table>\n",
       "</div>"
      ],
      "text/plain": [
       "                    count           mean            std         min  \\\n",
       "housingMedianAge  20640.0      28.639486      12.585558      1.0000   \n",
       "totalRooms        20640.0    2635.763081    2181.615252      2.0000   \n",
       "totalBedrooms     20640.0     537.898014     421.247906      1.0000   \n",
       "population        20640.0    1425.476744    1132.462122      3.0000   \n",
       "households        20640.0     499.539680     382.329753      1.0000   \n",
       "medianIncome      20640.0       3.870671       1.899822      0.4999   \n",
       "medianHouseValue  20640.0  206855.816909  115395.615874  14999.0000   \n",
       "\n",
       "                          25%          50%           75%          max  \n",
       "housingMedianAge      18.0000      29.0000      37.00000      52.0000  \n",
       "totalRooms          1447.7500    2127.0000    3148.00000   39320.0000  \n",
       "totalBedrooms        295.0000     435.0000     647.00000    6445.0000  \n",
       "population           787.0000    1166.0000    1725.00000   35682.0000  \n",
       "households           280.0000     409.0000     605.00000    6082.0000  \n",
       "medianIncome           2.5634       3.5348       4.74325      15.0001  \n",
       "medianHouseValue  119600.0000  179700.0000  264725.00000  500001.0000  "
      ]
     },
     "execution_count": 4,
     "metadata": {},
     "output_type": "execute_result"
    }
   ],
   "source": [
    "housing.describe().transpose()"
   ]
  },
  {
   "cell_type": "code",
   "execution_count": 5,
   "metadata": {
    "collapsed": true,
    "scrolled": true
   },
   "outputs": [],
   "source": [
    "X = housing.drop(\"medianHouseValue\",axis=1)"
   ]
  },
  {
   "cell_type": "code",
   "execution_count": 6,
   "metadata": {
    "collapsed": true
   },
   "outputs": [],
   "source": [
    "y = housing[\"medianHouseValue\"]"
   ]
  },
  {
   "cell_type": "code",
   "execution_count": 7,
   "metadata": {
    "collapsed": true
   },
   "outputs": [],
   "source": [
    "from sklearn.model_selection import train_test_split"
   ]
  },
  {
   "cell_type": "code",
   "execution_count": 8,
   "metadata": {
    "collapsed": true
   },
   "outputs": [],
   "source": [
    "X_train, X_test, y_train, y_test = train_test_split(X, y, test_size=0.30, random_state=101)"
   ]
  },
  {
   "cell_type": "markdown",
   "metadata": {},
   "source": [
    "### Scale the Feature Data\n",
    "\n",
    "** Use sklearn preprocessing to create a MinMaxScaler for the feature data. Fit this scaler only to the training data. Then use it to transform X_test and X_train. Then use the scaled X_test and X_train along with pd.Dataframe to re-create two dataframes of scaled data.**"
   ]
  },
  {
   "cell_type": "code",
   "execution_count": 9,
   "metadata": {
    "collapsed": true
   },
   "outputs": [],
   "source": [
    "from sklearn.preprocessing import MinMaxScaler"
   ]
  },
  {
   "cell_type": "code",
   "execution_count": 10,
   "metadata": {
    "collapsed": true
   },
   "outputs": [],
   "source": [
    "scaler_model = MinMaxScaler()"
   ]
  },
  {
   "cell_type": "code",
   "execution_count": 11,
   "metadata": {},
   "outputs": [
    {
     "data": {
      "text/plain": [
       "MinMaxScaler(copy=True, feature_range=(0, 1))"
      ]
     },
     "execution_count": 11,
     "metadata": {},
     "output_type": "execute_result"
    }
   ],
   "source": [
    "scaler_model.fit(X_train)"
   ]
  },
  {
   "cell_type": "code",
   "execution_count": 12,
   "metadata": {
    "collapsed": true
   },
   "outputs": [],
   "source": [
    "X_train = pd.DataFrame(data=scaler_model.transform(X_train),columns = X_train.columns,index=X_train.index)"
   ]
  },
  {
   "cell_type": "code",
   "execution_count": 13,
   "metadata": {
    "collapsed": true
   },
   "outputs": [],
   "source": [
    "X_test = pd.DataFrame(data=scaler_model.transform(X_test),columns = X_test.columns,index=X_test.index)"
   ]
  },
  {
   "cell_type": "markdown",
   "metadata": {},
   "source": [
    "### Create Feature Columns\n",
    "\n",
    "** Create the necessary tf.feature_column objects for the estimator. They should all be trated as continuous numeric_columns. **"
   ]
  },
  {
   "cell_type": "code",
   "execution_count": 14,
   "metadata": {},
   "outputs": [
    {
     "data": {
      "text/plain": [
       "Index(['housingMedianAge', 'totalRooms', 'totalBedrooms', 'population',\n",
       "       'households', 'medianIncome', 'medianHouseValue'],\n",
       "      dtype='object')"
      ]
     },
     "execution_count": 14,
     "metadata": {},
     "output_type": "execute_result"
    }
   ],
   "source": [
    "housing.columns"
   ]
  },
  {
   "cell_type": "code",
   "execution_count": 15,
   "metadata": {
    "collapsed": true
   },
   "outputs": [],
   "source": [
    "import tensorflow as tf"
   ]
  },
  {
   "cell_type": "code",
   "execution_count": 16,
   "metadata": {
    "collapsed": true
   },
   "outputs": [],
   "source": [
    "age = tf.feature_column.numeric_column(\"housingMedianAge\")\n",
    "rooms = tf.feature_column.numeric_column(\"totalRooms\")\n",
    "bedrooms = tf.feature_column.numeric_column(\"totalBedrooms\")\n",
    "pop = tf.feature_column.numeric_column(\"population\")\n",
    "households = tf.feature_column.numeric_column(\"households\")\n",
    "income = tf.feature_column.numeric_column(\"medianIncome\")"
   ]
  },
  {
   "cell_type": "code",
   "execution_count": 17,
   "metadata": {
    "collapsed": true
   },
   "outputs": [],
   "source": [
    "feat_cols = [age, rooms, bedrooms, pop, households, income]"
   ]
  },
  {
   "cell_type": "markdown",
   "metadata": {},
   "source": [
    "** Create the input function for the estimator object. (play around with batch_size and num_epochs)**"
   ]
  },
  {
   "cell_type": "code",
   "execution_count": 18,
   "metadata": {
    "collapsed": true
   },
   "outputs": [],
   "source": [
    "input_fun = tf.estimator.inputs.pandas_input_fn(x=X_train,y=y_train,batch_size=10,num_epochs=1000,shuffle=True)"
   ]
  },
  {
   "cell_type": "markdown",
   "metadata": {},
   "source": [
    "** Create the estimator model. Use a DNNRegressor. Play around with the hidden units! **"
   ]
  },
  {
   "cell_type": "code",
   "execution_count": 19,
   "metadata": {},
   "outputs": [
    {
     "name": "stdout",
     "output_type": "stream",
     "text": [
      "INFO:tensorflow:Using default config.\n",
      "WARNING:tensorflow:Using temporary folder as model directory: /var/folders/7b/2llsq3xs5wv7lqvjqk93v0100000gp/T/tmpzx_357em\n",
      "INFO:tensorflow:Using config: {'_model_dir': '/var/folders/7b/2llsq3xs5wv7lqvjqk93v0100000gp/T/tmpzx_357em', '_tf_random_seed': 1, '_save_summary_steps': 100, '_save_checkpoints_secs': 600, '_save_checkpoints_steps': None, '_session_config': None, '_keep_checkpoint_max': 5, '_keep_checkpoint_every_n_hours': 10000, '_log_step_count_steps': 100}\n"
     ]
    }
   ],
   "source": [
    "model = tf.estimator.DNNRegressor(hidden_units=[6,6,6],feature_columns=feat_cols)"
   ]
  },
  {
   "cell_type": "markdown",
   "metadata": {},
   "source": [
    "##### ** Train the model for ~1,000 steps. (Later come back to this and train it for more and check for improvement) **"
   ]
  },
  {
   "cell_type": "code",
   "execution_count": 20,
   "metadata": {},
   "outputs": [
    {
     "name": "stdout",
     "output_type": "stream",
     "text": [
      "INFO:tensorflow:Create CheckpointSaverHook.\n",
      "INFO:tensorflow:Saving checkpoints for 1 into /var/folders/7b/2llsq3xs5wv7lqvjqk93v0100000gp/T/tmpzx_357em/model.ckpt.\n",
      "INFO:tensorflow:loss = 3.02288e+11, step = 1\n",
      "INFO:tensorflow:global_step/sec: 436.152\n",
      "INFO:tensorflow:loss = 8.28562e+11, step = 101 (0.232 sec)\n",
      "INFO:tensorflow:global_step/sec: 412.993\n",
      "INFO:tensorflow:loss = 3.27758e+11, step = 201 (0.243 sec)\n",
      "INFO:tensorflow:global_step/sec: 342.857\n",
      "INFO:tensorflow:loss = 6.02963e+11, step = 301 (0.292 sec)\n",
      "INFO:tensorflow:global_step/sec: 354.206\n",
      "INFO:tensorflow:loss = 4.07212e+11, step = 401 (0.285 sec)\n",
      "INFO:tensorflow:global_step/sec: 373.602\n",
      "INFO:tensorflow:loss = 8.18257e+11, step = 501 (0.265 sec)\n",
      "INFO:tensorflow:global_step/sec: 369.278\n",
      "INFO:tensorflow:loss = 7.52138e+11, step = 601 (0.271 sec)\n",
      "INFO:tensorflow:global_step/sec: 410.468\n",
      "INFO:tensorflow:loss = 3.97188e+11, step = 701 (0.240 sec)\n",
      "INFO:tensorflow:global_step/sec: 376.094\n",
      "INFO:tensorflow:loss = 2.7939e+11, step = 801 (0.268 sec)\n",
      "INFO:tensorflow:global_step/sec: 367.617\n",
      "INFO:tensorflow:loss = 3.15965e+11, step = 901 (0.276 sec)\n",
      "INFO:tensorflow:global_step/sec: 353.286\n",
      "INFO:tensorflow:loss = 2.41282e+11, step = 1001 (0.278 sec)\n",
      "INFO:tensorflow:global_step/sec: 358.625\n",
      "INFO:tensorflow:loss = 4.96089e+11, step = 1101 (0.279 sec)\n",
      "INFO:tensorflow:global_step/sec: 365.014\n",
      "INFO:tensorflow:loss = 2.06178e+11, step = 1201 (0.274 sec)\n",
      "INFO:tensorflow:global_step/sec: 360.334\n",
      "INFO:tensorflow:loss = 6.42653e+10, step = 1301 (0.278 sec)\n",
      "INFO:tensorflow:global_step/sec: 360.637\n",
      "INFO:tensorflow:loss = 1.24438e+11, step = 1401 (0.277 sec)\n",
      "INFO:tensorflow:global_step/sec: 408.901\n",
      "INFO:tensorflow:loss = 2.54951e+11, step = 1501 (0.245 sec)\n",
      "INFO:tensorflow:global_step/sec: 365.904\n",
      "INFO:tensorflow:loss = 2.10022e+11, step = 1601 (0.278 sec)\n",
      "INFO:tensorflow:global_step/sec: 353.837\n",
      "INFO:tensorflow:loss = 6.47017e+10, step = 1701 (0.281 sec)\n",
      "INFO:tensorflow:global_step/sec: 357.33\n",
      "INFO:tensorflow:loss = 1.00601e+11, step = 1801 (0.278 sec)\n",
      "INFO:tensorflow:global_step/sec: 368.425\n",
      "INFO:tensorflow:loss = 2.39232e+11, step = 1901 (0.271 sec)\n",
      "INFO:tensorflow:global_step/sec: 361.758\n",
      "INFO:tensorflow:loss = 7.60852e+10, step = 2001 (0.277 sec)\n",
      "INFO:tensorflow:global_step/sec: 360.865\n",
      "INFO:tensorflow:loss = 9.3103e+10, step = 2101 (0.277 sec)\n",
      "INFO:tensorflow:global_step/sec: 362.991\n",
      "INFO:tensorflow:loss = 1.46304e+11, step = 2201 (0.275 sec)\n",
      "INFO:tensorflow:global_step/sec: 366.82\n",
      "INFO:tensorflow:loss = 5.30495e+10, step = 2301 (0.273 sec)\n",
      "INFO:tensorflow:global_step/sec: 409.147\n",
      "INFO:tensorflow:loss = 4.74982e+10, step = 2401 (0.244 sec)\n",
      "INFO:tensorflow:global_step/sec: 415.227\n",
      "INFO:tensorflow:loss = 1.7574e+11, step = 2501 (0.241 sec)\n",
      "INFO:tensorflow:global_step/sec: 331.469\n",
      "INFO:tensorflow:loss = 5.19999e+10, step = 2601 (0.302 sec)\n",
      "INFO:tensorflow:global_step/sec: 364.361\n",
      "INFO:tensorflow:loss = 7.43174e+10, step = 2701 (0.275 sec)\n",
      "INFO:tensorflow:global_step/sec: 358.611\n",
      "INFO:tensorflow:loss = 1.68546e+11, step = 2801 (0.279 sec)\n",
      "INFO:tensorflow:global_step/sec: 364.765\n",
      "INFO:tensorflow:loss = 1.25731e+11, step = 2901 (0.274 sec)\n",
      "INFO:tensorflow:global_step/sec: 366.498\n",
      "INFO:tensorflow:loss = 1.15137e+11, step = 3001 (0.273 sec)\n",
      "INFO:tensorflow:global_step/sec: 356.1\n",
      "INFO:tensorflow:loss = 1.26483e+11, step = 3101 (0.281 sec)\n",
      "INFO:tensorflow:global_step/sec: 367.33\n",
      "INFO:tensorflow:loss = 1.37996e+11, step = 3201 (0.272 sec)\n",
      "INFO:tensorflow:global_step/sec: 380.446\n",
      "INFO:tensorflow:loss = 1.46621e+11, step = 3301 (0.263 sec)\n",
      "INFO:tensorflow:global_step/sec: 423.679\n",
      "INFO:tensorflow:loss = 2.30736e+11, step = 3401 (0.236 sec)\n",
      "INFO:tensorflow:global_step/sec: 345.537\n",
      "INFO:tensorflow:loss = 8.52406e+10, step = 3501 (0.293 sec)\n",
      "INFO:tensorflow:global_step/sec: 381.049\n",
      "INFO:tensorflow:loss = 9.74857e+10, step = 3601 (0.262 sec)\n",
      "INFO:tensorflow:global_step/sec: 358.639\n",
      "INFO:tensorflow:loss = 2.65441e+10, step = 3701 (0.276 sec)\n",
      "INFO:tensorflow:global_step/sec: 366.627\n",
      "INFO:tensorflow:loss = 6.7479e+10, step = 3801 (0.273 sec)\n",
      "INFO:tensorflow:global_step/sec: 365.752\n",
      "INFO:tensorflow:loss = 1.25098e+11, step = 3901 (0.273 sec)\n",
      "INFO:tensorflow:global_step/sec: 355.93\n",
      "INFO:tensorflow:loss = 1.01261e+11, step = 4001 (0.281 sec)\n",
      "INFO:tensorflow:global_step/sec: 361.439\n",
      "INFO:tensorflow:loss = 1.3097e+11, step = 4101 (0.277 sec)\n",
      "INFO:tensorflow:global_step/sec: 395.099\n",
      "INFO:tensorflow:loss = 9.24095e+10, step = 4201 (0.253 sec)\n",
      "INFO:tensorflow:global_step/sec: 400.051\n",
      "INFO:tensorflow:loss = 1.5947e+11, step = 4301 (0.251 sec)\n",
      "INFO:tensorflow:global_step/sec: 361.639\n",
      "INFO:tensorflow:loss = 1.56518e+11, step = 4401 (0.278 sec)\n",
      "INFO:tensorflow:global_step/sec: 362.844\n",
      "INFO:tensorflow:loss = 1.73936e+11, step = 4501 (0.273 sec)\n",
      "INFO:tensorflow:global_step/sec: 362.332\n",
      "INFO:tensorflow:loss = 6.49175e+10, step = 4601 (0.276 sec)\n",
      "INFO:tensorflow:global_step/sec: 370.179\n",
      "INFO:tensorflow:loss = 5.88423e+10, step = 4701 (0.270 sec)\n",
      "INFO:tensorflow:global_step/sec: 365.684\n",
      "INFO:tensorflow:loss = 1.65267e+11, step = 4801 (0.274 sec)\n",
      "INFO:tensorflow:global_step/sec: 367.712\n",
      "INFO:tensorflow:loss = 2.03926e+11, step = 4901 (0.272 sec)\n",
      "INFO:tensorflow:global_step/sec: 358.979\n",
      "INFO:tensorflow:loss = 1.41388e+11, step = 5001 (0.279 sec)\n",
      "INFO:tensorflow:global_step/sec: 362.167\n",
      "INFO:tensorflow:loss = 1.43246e+11, step = 5101 (0.276 sec)\n",
      "INFO:tensorflow:global_step/sec: 359.632\n",
      "INFO:tensorflow:loss = 1.4941e+11, step = 5201 (0.278 sec)\n",
      "INFO:tensorflow:global_step/sec: 420.063\n",
      "INFO:tensorflow:loss = 1.98449e+11, step = 5301 (0.238 sec)\n",
      "INFO:tensorflow:global_step/sec: 343.197\n",
      "INFO:tensorflow:loss = 5.71905e+10, step = 5401 (0.294 sec)\n",
      "INFO:tensorflow:global_step/sec: 378.87\n",
      "INFO:tensorflow:loss = 1.07788e+11, step = 5501 (0.263 sec)\n",
      "INFO:tensorflow:global_step/sec: 427.961\n",
      "INFO:tensorflow:loss = 5.06783e+10, step = 5601 (0.232 sec)\n",
      "INFO:tensorflow:global_step/sec: 494.106\n",
      "INFO:tensorflow:loss = 1.79927e+11, step = 5701 (0.204 sec)\n",
      "INFO:tensorflow:global_step/sec: 390.029\n",
      "INFO:tensorflow:loss = 8.69469e+10, step = 5801 (0.255 sec)\n",
      "INFO:tensorflow:global_step/sec: 399.801\n",
      "INFO:tensorflow:loss = 1.47479e+11, step = 5901 (0.250 sec)\n",
      "INFO:tensorflow:global_step/sec: 417.056\n",
      "INFO:tensorflow:loss = 1.66919e+11, step = 6001 (0.240 sec)\n",
      "INFO:tensorflow:global_step/sec: 396.753\n",
      "INFO:tensorflow:loss = 1.56545e+11, step = 6101 (0.257 sec)\n",
      "INFO:tensorflow:global_step/sec: 410.713\n",
      "INFO:tensorflow:loss = 5.47812e+10, step = 6201 (0.239 sec)\n",
      "INFO:tensorflow:global_step/sec: 363.697\n",
      "INFO:tensorflow:loss = 7.96612e+10, step = 6301 (0.279 sec)\n",
      "INFO:tensorflow:global_step/sec: 377.478\n",
      "INFO:tensorflow:loss = 1.06597e+11, step = 6401 (0.266 sec)\n",
      "INFO:tensorflow:global_step/sec: 328.189\n",
      "INFO:tensorflow:loss = 9.49057e+10, step = 6501 (0.299 sec)\n",
      "INFO:tensorflow:global_step/sec: 402.406\n",
      "INFO:tensorflow:loss = 4.40136e+10, step = 6601 (0.249 sec)\n",
      "INFO:tensorflow:global_step/sec: 359.777\n",
      "INFO:tensorflow:loss = 3.36466e+10, step = 6701 (0.284 sec)\n",
      "INFO:tensorflow:global_step/sec: 370.088\n",
      "INFO:tensorflow:loss = 3.82436e+10, step = 6801 (0.269 sec)\n",
      "INFO:tensorflow:global_step/sec: 351.49\n",
      "INFO:tensorflow:loss = 7.94721e+10, step = 6901 (0.280 sec)\n",
      "INFO:tensorflow:global_step/sec: 363.577\n",
      "INFO:tensorflow:loss = 1.07307e+11, step = 7001 (0.275 sec)\n",
      "INFO:tensorflow:global_step/sec: 353.837\n",
      "INFO:tensorflow:loss = 1.2324e+11, step = 7101 (0.283 sec)\n",
      "INFO:tensorflow:global_step/sec: 364.513\n",
      "INFO:tensorflow:loss = 6.95985e+10, step = 7201 (0.274 sec)\n",
      "INFO:tensorflow:global_step/sec: 348.376\n",
      "INFO:tensorflow:loss = 1.20237e+11, step = 7301 (0.287 sec)\n",
      "INFO:tensorflow:global_step/sec: 363.78\n",
      "INFO:tensorflow:loss = 5.02043e+10, step = 7401 (0.275 sec)\n",
      "INFO:tensorflow:global_step/sec: 388.272\n",
      "INFO:tensorflow:loss = 4.12667e+10, step = 7501 (0.258 sec)\n",
      "INFO:tensorflow:global_step/sec: 413.39\n",
      "INFO:tensorflow:loss = 1.44877e+11, step = 7601 (0.245 sec)\n",
      "INFO:tensorflow:global_step/sec: 410.297\n",
      "INFO:tensorflow:loss = 5.44756e+10, step = 7701 (0.241 sec)\n",
      "INFO:tensorflow:global_step/sec: 357.485\n",
      "INFO:tensorflow:loss = 5.80969e+10, step = 7801 (0.284 sec)\n",
      "INFO:tensorflow:global_step/sec: 371.132\n",
      "INFO:tensorflow:loss = 1.40167e+11, step = 7901 (0.268 sec)\n",
      "INFO:tensorflow:global_step/sec: 359.376\n"
     ]
    },
    {
     "name": "stdout",
     "output_type": "stream",
     "text": [
      "INFO:tensorflow:loss = 1.00801e+11, step = 8001 (0.275 sec)\n",
      "INFO:tensorflow:global_step/sec: 361.653\n",
      "INFO:tensorflow:loss = 5.63687e+10, step = 8101 (0.276 sec)\n",
      "INFO:tensorflow:global_step/sec: 362.354\n",
      "INFO:tensorflow:loss = 1.31011e+11, step = 8201 (0.276 sec)\n",
      "INFO:tensorflow:global_step/sec: 434.005\n",
      "INFO:tensorflow:loss = 5.36825e+10, step = 8301 (0.230 sec)\n",
      "INFO:tensorflow:global_step/sec: 351.195\n",
      "INFO:tensorflow:loss = 1.10555e+11, step = 8401 (0.289 sec)\n",
      "INFO:tensorflow:global_step/sec: 355.052\n",
      "INFO:tensorflow:loss = 1.36698e+11, step = 8501 (0.277 sec)\n",
      "INFO:tensorflow:global_step/sec: 363.247\n",
      "INFO:tensorflow:loss = 4.08767e+10, step = 8601 (0.275 sec)\n",
      "INFO:tensorflow:global_step/sec: 409.474\n",
      "INFO:tensorflow:loss = 1.66553e+11, step = 8701 (0.244 sec)\n",
      "INFO:tensorflow:global_step/sec: 367.177\n",
      "INFO:tensorflow:loss = 1.861e+11, step = 8801 (0.277 sec)\n",
      "INFO:tensorflow:global_step/sec: 355.727\n",
      "INFO:tensorflow:loss = 1.13003e+11, step = 8901 (0.276 sec)\n",
      "INFO:tensorflow:global_step/sec: 365.945\n",
      "INFO:tensorflow:loss = 6.24381e+10, step = 9001 (0.273 sec)\n",
      "INFO:tensorflow:global_step/sec: 366.619\n",
      "INFO:tensorflow:loss = 7.34364e+10, step = 9101 (0.273 sec)\n",
      "INFO:tensorflow:global_step/sec: 376.366\n",
      "INFO:tensorflow:loss = 6.3116e+10, step = 9201 (0.266 sec)\n",
      "INFO:tensorflow:global_step/sec: 388.737\n",
      "INFO:tensorflow:loss = 4.69736e+10, step = 9301 (0.257 sec)\n",
      "INFO:tensorflow:global_step/sec: 357.017\n",
      "INFO:tensorflow:loss = 1.81762e+11, step = 9401 (0.283 sec)\n",
      "INFO:tensorflow:global_step/sec: 379.224\n",
      "INFO:tensorflow:loss = 8.52273e+10, step = 9501 (0.266 sec)\n",
      "INFO:tensorflow:global_step/sec: 359.863\n",
      "INFO:tensorflow:loss = 4.21604e+10, step = 9601 (0.272 sec)\n",
      "INFO:tensorflow:global_step/sec: 362.251\n",
      "INFO:tensorflow:loss = 1.14628e+11, step = 9701 (0.276 sec)\n",
      "INFO:tensorflow:global_step/sec: 362.378\n",
      "INFO:tensorflow:loss = 9.44315e+10, step = 9801 (0.276 sec)\n",
      "INFO:tensorflow:global_step/sec: 359.988\n",
      "INFO:tensorflow:loss = 1.69148e+11, step = 9901 (0.278 sec)\n",
      "INFO:tensorflow:global_step/sec: 354.444\n",
      "INFO:tensorflow:loss = 1.3611e+11, step = 10001 (0.282 sec)\n",
      "INFO:tensorflow:global_step/sec: 360.106\n",
      "INFO:tensorflow:loss = 1.46569e+11, step = 10101 (0.277 sec)\n",
      "INFO:tensorflow:global_step/sec: 368.11\n",
      "INFO:tensorflow:loss = 9.20798e+10, step = 10201 (0.272 sec)\n",
      "INFO:tensorflow:global_step/sec: 363.307\n",
      "INFO:tensorflow:loss = 2.02354e+11, step = 10301 (0.275 sec)\n",
      "INFO:tensorflow:global_step/sec: 361.234\n",
      "INFO:tensorflow:loss = 1.68423e+11, step = 10401 (0.277 sec)\n",
      "INFO:tensorflow:global_step/sec: 363.351\n",
      "INFO:tensorflow:loss = 9.18473e+10, step = 10501 (0.275 sec)\n",
      "INFO:tensorflow:global_step/sec: 361.183\n",
      "INFO:tensorflow:loss = 1.42896e+11, step = 10601 (0.277 sec)\n",
      "INFO:tensorflow:global_step/sec: 365.44\n",
      "INFO:tensorflow:loss = 3.62692e+10, step = 10701 (0.274 sec)\n",
      "INFO:tensorflow:global_step/sec: 379.841\n",
      "INFO:tensorflow:loss = 8.84951e+10, step = 10801 (0.263 sec)\n",
      "INFO:tensorflow:global_step/sec: 433.879\n",
      "INFO:tensorflow:loss = 1.01182e+11, step = 10901 (0.231 sec)\n",
      "INFO:tensorflow:global_step/sec: 431.192\n",
      "INFO:tensorflow:loss = 4.39722e+10, step = 11001 (0.232 sec)\n",
      "INFO:tensorflow:global_step/sec: 377.808\n",
      "INFO:tensorflow:loss = 1.49861e+11, step = 11101 (0.266 sec)\n",
      "INFO:tensorflow:global_step/sec: 373.23\n",
      "INFO:tensorflow:loss = 4.71729e+10, step = 11201 (0.271 sec)\n",
      "INFO:tensorflow:global_step/sec: 353.094\n",
      "INFO:tensorflow:loss = 5.01998e+10, step = 11301 (0.279 sec)\n",
      "INFO:tensorflow:global_step/sec: 364.568\n",
      "INFO:tensorflow:loss = 1.79162e+11, step = 11401 (0.274 sec)\n",
      "INFO:tensorflow:global_step/sec: 353.197\n",
      "INFO:tensorflow:loss = 4.76396e+10, step = 11501 (0.283 sec)\n",
      "INFO:tensorflow:global_step/sec: 372.462\n",
      "INFO:tensorflow:loss = 6.4457e+10, step = 11601 (0.275 sec)\n",
      "INFO:tensorflow:global_step/sec: 436.442\n",
      "INFO:tensorflow:loss = 1.2231e+11, step = 11701 (0.227 sec)\n",
      "INFO:tensorflow:global_step/sec: 351.928\n",
      "INFO:tensorflow:loss = 7.24471e+10, step = 11801 (0.283 sec)\n",
      "INFO:tensorflow:global_step/sec: 344.207\n",
      "INFO:tensorflow:loss = 9.71024e+10, step = 11901 (0.293 sec)\n",
      "INFO:tensorflow:global_step/sec: 356.907\n",
      "INFO:tensorflow:loss = 3.56916e+10, step = 12001 (0.274 sec)\n",
      "INFO:tensorflow:global_step/sec: 434.786\n",
      "INFO:tensorflow:loss = 9.12838e+10, step = 12101 (0.230 sec)\n",
      "INFO:tensorflow:global_step/sec: 352.342\n",
      "INFO:tensorflow:loss = 1.35393e+11, step = 12201 (0.287 sec)\n",
      "INFO:tensorflow:global_step/sec: 357.278\n",
      "INFO:tensorflow:loss = 1.37897e+11, step = 12301 (0.277 sec)\n",
      "INFO:tensorflow:global_step/sec: 363.862\n",
      "INFO:tensorflow:loss = 1.49565e+11, step = 12401 (0.275 sec)\n",
      "INFO:tensorflow:global_step/sec: 365.113\n",
      "INFO:tensorflow:loss = 2.63989e+11, step = 12501 (0.274 sec)\n",
      "INFO:tensorflow:global_step/sec: 363.628\n",
      "INFO:tensorflow:loss = 9.2066e+10, step = 12601 (0.275 sec)\n",
      "INFO:tensorflow:global_step/sec: 366.221\n",
      "INFO:tensorflow:loss = 1.01903e+11, step = 12701 (0.273 sec)\n",
      "INFO:tensorflow:global_step/sec: 363.814\n",
      "INFO:tensorflow:loss = 7.23329e+10, step = 12801 (0.275 sec)\n",
      "INFO:tensorflow:global_step/sec: 353.033\n",
      "INFO:tensorflow:loss = 1.42728e+11, step = 12901 (0.283 sec)\n",
      "INFO:tensorflow:global_step/sec: 362.083\n",
      "INFO:tensorflow:loss = 1.18768e+11, step = 13001 (0.276 sec)\n",
      "INFO:tensorflow:global_step/sec: 366.365\n",
      "INFO:tensorflow:loss = 6.00897e+10, step = 13101 (0.273 sec)\n",
      "INFO:tensorflow:global_step/sec: 361.37\n",
      "INFO:tensorflow:loss = 7.85231e+10, step = 13201 (0.277 sec)\n",
      "INFO:tensorflow:global_step/sec: 364.272\n",
      "INFO:tensorflow:loss = 7.33025e+10, step = 13301 (0.275 sec)\n",
      "INFO:tensorflow:global_step/sec: 421.322\n",
      "INFO:tensorflow:loss = 1.89487e+11, step = 13401 (0.237 sec)\n",
      "INFO:tensorflow:global_step/sec: 485.581\n",
      "INFO:tensorflow:loss = 6.03438e+10, step = 13501 (0.208 sec)\n",
      "INFO:tensorflow:global_step/sec: 421.963\n",
      "INFO:tensorflow:loss = 1.23459e+11, step = 13601 (0.235 sec)\n",
      "INFO:tensorflow:global_step/sec: 429.192\n",
      "INFO:tensorflow:loss = 1.08802e+11, step = 13701 (0.233 sec)\n",
      "INFO:tensorflow:global_step/sec: 382.148\n",
      "INFO:tensorflow:loss = 7.21308e+10, step = 13801 (0.262 sec)\n",
      "INFO:tensorflow:global_step/sec: 342.442\n",
      "INFO:tensorflow:loss = 1.23933e+11, step = 13901 (0.296 sec)\n",
      "INFO:tensorflow:global_step/sec: 370.302\n",
      "INFO:tensorflow:loss = 9.48583e+10, step = 14001 (0.266 sec)\n",
      "INFO:tensorflow:global_step/sec: 364.597\n",
      "INFO:tensorflow:loss = 7.68449e+10, step = 14101 (0.274 sec)\n",
      "INFO:tensorflow:global_step/sec: 367.627\n",
      "INFO:tensorflow:loss = 1.39333e+11, step = 14201 (0.272 sec)\n",
      "INFO:tensorflow:global_step/sec: 360.813\n",
      "INFO:tensorflow:loss = 1.01284e+11, step = 14301 (0.277 sec)\n",
      "INFO:tensorflow:global_step/sec: 361.612\n",
      "INFO:tensorflow:loss = 7.49591e+10, step = 14401 (0.277 sec)\n",
      "INFO:tensorflow:global_step/sec: 370.217\n",
      "INFO:tensorflow:loss = 4.83085e+10, step = 14501 (0.270 sec)\n",
      "INFO:tensorflow:global_step/sec: 364.876\n",
      "INFO:tensorflow:loss = 1.75323e+11, step = 14601 (0.276 sec)\n",
      "INFO:tensorflow:global_step/sec: 379.318\n",
      "INFO:tensorflow:loss = 1.28767e+11, step = 14701 (0.266 sec)\n",
      "INFO:tensorflow:global_step/sec: 394.663\n",
      "INFO:tensorflow:loss = 1.21713e+11, step = 14801 (0.249 sec)\n",
      "INFO:tensorflow:global_step/sec: 425.61\n",
      "INFO:tensorflow:loss = 1.75932e+10, step = 14901 (0.235 sec)\n",
      "INFO:tensorflow:global_step/sec: 361.579\n",
      "INFO:tensorflow:loss = 5.83655e+10, step = 15001 (0.280 sec)\n",
      "INFO:tensorflow:global_step/sec: 377.378\n",
      "INFO:tensorflow:loss = 1.17578e+11, step = 15101 (0.266 sec)\n",
      "INFO:tensorflow:global_step/sec: 350.256\n",
      "INFO:tensorflow:loss = 2.74179e+10, step = 15201 (0.281 sec)\n",
      "INFO:tensorflow:global_step/sec: 363.621\n",
      "INFO:tensorflow:loss = 7.55861e+10, step = 15301 (0.275 sec)\n",
      "INFO:tensorflow:global_step/sec: 360.757\n",
      "INFO:tensorflow:loss = 1.52419e+11, step = 15401 (0.277 sec)\n",
      "INFO:tensorflow:global_step/sec: 362.408\n",
      "INFO:tensorflow:loss = 8.83586e+10, step = 15501 (0.276 sec)\n",
      "INFO:tensorflow:global_step/sec: 361.118\n",
      "INFO:tensorflow:loss = 6.98736e+10, step = 15601 (0.277 sec)\n",
      "INFO:tensorflow:global_step/sec: 367.838\n",
      "INFO:tensorflow:loss = 9.89408e+10, step = 15701 (0.272 sec)\n",
      "INFO:tensorflow:global_step/sec: 365.083\n",
      "INFO:tensorflow:loss = 1.09903e+11, step = 15801 (0.274 sec)\n",
      "INFO:tensorflow:global_step/sec: 365.905\n",
      "INFO:tensorflow:loss = 6.26895e+10, step = 15901 (0.273 sec)\n",
      "INFO:tensorflow:global_step/sec: 362.021\n",
      "INFO:tensorflow:loss = 1.29732e+11, step = 16001 (0.276 sec)\n",
      "INFO:tensorflow:global_step/sec: 362.804\n"
     ]
    },
    {
     "name": "stdout",
     "output_type": "stream",
     "text": [
      "INFO:tensorflow:loss = 7.75756e+10, step = 16101 (0.275 sec)\n",
      "INFO:tensorflow:global_step/sec: 358.775\n",
      "INFO:tensorflow:loss = 4.94867e+10, step = 16201 (0.280 sec)\n",
      "INFO:tensorflow:global_step/sec: 364.556\n",
      "INFO:tensorflow:loss = 9.78021e+10, step = 16301 (0.273 sec)\n",
      "INFO:tensorflow:global_step/sec: 402.697\n",
      "INFO:tensorflow:loss = 7.24111e+10, step = 16401 (0.248 sec)\n",
      "INFO:tensorflow:global_step/sec: 400.61\n",
      "INFO:tensorflow:loss = 3.79844e+10, step = 16501 (0.251 sec)\n",
      "INFO:tensorflow:global_step/sec: 341.732\n",
      "INFO:tensorflow:loss = 1.2209e+11, step = 16601 (0.297 sec)\n",
      "INFO:tensorflow:global_step/sec: 344.172\n",
      "INFO:tensorflow:loss = 1.44931e+11, step = 16701 (0.285 sec)\n",
      "INFO:tensorflow:global_step/sec: 362.097\n",
      "INFO:tensorflow:loss = 2.4615e+11, step = 16801 (0.276 sec)\n",
      "INFO:tensorflow:global_step/sec: 407.896\n",
      "INFO:tensorflow:loss = 2.46741e+11, step = 16901 (0.245 sec)\n",
      "INFO:tensorflow:global_step/sec: 415.503\n",
      "INFO:tensorflow:loss = 5.41998e+10, step = 17001 (0.241 sec)\n",
      "INFO:tensorflow:global_step/sec: 339.823\n",
      "INFO:tensorflow:loss = 1.31264e+11, step = 17101 (0.298 sec)\n",
      "INFO:tensorflow:global_step/sec: 363.266\n",
      "INFO:tensorflow:loss = 1.91486e+11, step = 17201 (0.271 sec)\n",
      "INFO:tensorflow:global_step/sec: 360.058\n",
      "INFO:tensorflow:loss = 6.41847e+10, step = 17301 (0.278 sec)\n",
      "INFO:tensorflow:global_step/sec: 360.417\n",
      "INFO:tensorflow:loss = 3.76847e+10, step = 17401 (0.277 sec)\n",
      "INFO:tensorflow:global_step/sec: 390.307\n",
      "INFO:tensorflow:loss = 1.32298e+11, step = 17501 (0.256 sec)\n",
      "INFO:tensorflow:global_step/sec: 432.742\n",
      "INFO:tensorflow:loss = 5.01219e+10, step = 17601 (0.231 sec)\n",
      "INFO:tensorflow:global_step/sec: 369.095\n",
      "INFO:tensorflow:loss = 7.04813e+10, step = 17701 (0.274 sec)\n",
      "INFO:tensorflow:global_step/sec: 354.409\n",
      "INFO:tensorflow:loss = 1.21492e+11, step = 17801 (0.279 sec)\n",
      "INFO:tensorflow:global_step/sec: 382.094\n",
      "INFO:tensorflow:loss = 5.76296e+10, step = 17901 (0.262 sec)\n",
      "INFO:tensorflow:global_step/sec: 349.301\n",
      "INFO:tensorflow:loss = 9.41153e+10, step = 18001 (0.292 sec)\n",
      "INFO:tensorflow:global_step/sec: 373.867\n",
      "INFO:tensorflow:loss = 2.27625e+10, step = 18101 (0.266 sec)\n",
      "INFO:tensorflow:global_step/sec: 352.229\n",
      "INFO:tensorflow:loss = 7.47737e+10, step = 18201 (0.279 sec)\n",
      "INFO:tensorflow:global_step/sec: 367.272\n",
      "INFO:tensorflow:loss = 1.39334e+11, step = 18301 (0.272 sec)\n",
      "INFO:tensorflow:global_step/sec: 366.308\n",
      "INFO:tensorflow:loss = 2.17267e+11, step = 18401 (0.273 sec)\n",
      "INFO:tensorflow:global_step/sec: 357.509\n",
      "INFO:tensorflow:loss = 6.01824e+10, step = 18501 (0.280 sec)\n",
      "INFO:tensorflow:global_step/sec: 421.113\n",
      "INFO:tensorflow:loss = 4.43135e+10, step = 18601 (0.238 sec)\n",
      "INFO:tensorflow:global_step/sec: 424.459\n",
      "INFO:tensorflow:loss = 5.99336e+10, step = 18701 (0.235 sec)\n",
      "INFO:tensorflow:global_step/sec: 358.13\n",
      "INFO:tensorflow:loss = 9.26964e+10, step = 18801 (0.279 sec)\n",
      "INFO:tensorflow:global_step/sec: 386.11\n",
      "INFO:tensorflow:loss = 2.66319e+11, step = 18901 (0.260 sec)\n",
      "INFO:tensorflow:global_step/sec: 398.28\n",
      "INFO:tensorflow:loss = 1.11899e+11, step = 19001 (0.250 sec)\n",
      "INFO:tensorflow:global_step/sec: 352.892\n",
      "INFO:tensorflow:loss = 1.75179e+11, step = 19101 (0.288 sec)\n",
      "INFO:tensorflow:global_step/sec: 433.078\n",
      "INFO:tensorflow:loss = 1.00113e+11, step = 19201 (0.228 sec)\n",
      "INFO:tensorflow:global_step/sec: 414.7\n",
      "INFO:tensorflow:loss = 8.48878e+10, step = 19301 (0.240 sec)\n",
      "INFO:tensorflow:global_step/sec: 457.892\n",
      "INFO:tensorflow:loss = 6.32714e+10, step = 19401 (0.222 sec)\n",
      "INFO:tensorflow:global_step/sec: 335.443\n",
      "INFO:tensorflow:loss = 1.94314e+11, step = 19501 (0.298 sec)\n",
      "INFO:tensorflow:global_step/sec: 378.721\n",
      "INFO:tensorflow:loss = 6.60497e+10, step = 19601 (0.264 sec)\n",
      "INFO:tensorflow:global_step/sec: 365.451\n",
      "INFO:tensorflow:loss = 7.88053e+10, step = 19701 (0.269 sec)\n",
      "INFO:tensorflow:global_step/sec: 474.884\n",
      "INFO:tensorflow:loss = 7.02758e+10, step = 19801 (0.211 sec)\n",
      "INFO:tensorflow:global_step/sec: 403.008\n",
      "INFO:tensorflow:loss = 7.38252e+10, step = 19901 (0.250 sec)\n",
      "INFO:tensorflow:global_step/sec: 347.569\n",
      "INFO:tensorflow:loss = 6.91127e+10, step = 20001 (0.295 sec)\n",
      "INFO:tensorflow:global_step/sec: 356.931\n",
      "INFO:tensorflow:loss = 6.96733e+10, step = 20101 (0.271 sec)\n",
      "INFO:tensorflow:global_step/sec: 367.551\n",
      "INFO:tensorflow:loss = 4.96271e+10, step = 20201 (0.272 sec)\n",
      "INFO:tensorflow:global_step/sec: 360.651\n",
      "INFO:tensorflow:loss = 7.76884e+10, step = 20301 (0.277 sec)\n",
      "INFO:tensorflow:global_step/sec: 363.855\n",
      "INFO:tensorflow:loss = 6.55436e+10, step = 20401 (0.275 sec)\n",
      "INFO:tensorflow:global_step/sec: 412.65\n",
      "INFO:tensorflow:loss = 4.1973e+10, step = 20501 (0.242 sec)\n",
      "INFO:tensorflow:global_step/sec: 353.046\n",
      "INFO:tensorflow:loss = 1.15201e+11, step = 20601 (0.288 sec)\n",
      "INFO:tensorflow:global_step/sec: 396.394\n",
      "INFO:tensorflow:loss = 7.66005e+10, step = 20701 (0.248 sec)\n",
      "INFO:tensorflow:global_step/sec: 402.747\n",
      "INFO:tensorflow:loss = 7.35937e+10, step = 20801 (0.250 sec)\n",
      "INFO:tensorflow:global_step/sec: 411.247\n",
      "INFO:tensorflow:loss = 1.59081e+11, step = 20901 (0.241 sec)\n",
      "INFO:tensorflow:global_step/sec: 339.678\n",
      "INFO:tensorflow:loss = 4.13834e+10, step = 21001 (0.300 sec)\n",
      "INFO:tensorflow:global_step/sec: 437.206\n",
      "INFO:tensorflow:loss = 7.54621e+10, step = 21101 (0.227 sec)\n",
      "INFO:tensorflow:global_step/sec: 419.733\n",
      "INFO:tensorflow:loss = 1.14189e+11, step = 21201 (0.235 sec)\n",
      "INFO:tensorflow:global_step/sec: 430.279\n",
      "INFO:tensorflow:loss = 4.61115e+10, step = 21301 (0.233 sec)\n",
      "INFO:tensorflow:global_step/sec: 441.485\n",
      "INFO:tensorflow:loss = 6.41646e+10, step = 21401 (0.228 sec)\n",
      "INFO:tensorflow:global_step/sec: 457.681\n",
      "INFO:tensorflow:loss = 1.4159e+11, step = 21501 (0.219 sec)\n",
      "INFO:tensorflow:global_step/sec: 402.4\n",
      "INFO:tensorflow:loss = 1.71493e+11, step = 21601 (0.246 sec)\n",
      "INFO:tensorflow:global_step/sec: 345.833\n",
      "INFO:tensorflow:loss = 4.2464e+10, step = 21701 (0.293 sec)\n",
      "INFO:tensorflow:global_step/sec: 362.203\n",
      "INFO:tensorflow:loss = 9.78177e+10, step = 21801 (0.277 sec)\n",
      "INFO:tensorflow:global_step/sec: 349.372\n",
      "INFO:tensorflow:loss = 8.10948e+10, step = 21901 (0.282 sec)\n",
      "INFO:tensorflow:global_step/sec: 366.03\n",
      "INFO:tensorflow:loss = 7.84094e+10, step = 22001 (0.273 sec)\n",
      "INFO:tensorflow:global_step/sec: 365.073\n",
      "INFO:tensorflow:loss = 1.09051e+11, step = 22101 (0.274 sec)\n",
      "INFO:tensorflow:global_step/sec: 370.789\n",
      "INFO:tensorflow:loss = 2.09617e+11, step = 22201 (0.270 sec)\n",
      "INFO:tensorflow:global_step/sec: 367.775\n",
      "INFO:tensorflow:loss = 6.37216e+10, step = 22301 (0.272 sec)\n",
      "INFO:tensorflow:global_step/sec: 363.293\n",
      "INFO:tensorflow:loss = 4.77021e+10, step = 22401 (0.275 sec)\n",
      "INFO:tensorflow:global_step/sec: 364.462\n",
      "INFO:tensorflow:loss = 8.14578e+10, step = 22501 (0.274 sec)\n",
      "INFO:tensorflow:global_step/sec: 368.567\n",
      "INFO:tensorflow:loss = 1.30557e+11, step = 22601 (0.271 sec)\n",
      "INFO:tensorflow:global_step/sec: 366.531\n",
      "INFO:tensorflow:loss = 8.10878e+10, step = 22701 (0.273 sec)\n",
      "INFO:tensorflow:global_step/sec: 336.351\n",
      "INFO:tensorflow:loss = 6.92491e+10, step = 22801 (0.297 sec)\n",
      "INFO:tensorflow:global_step/sec: 383.74\n",
      "INFO:tensorflow:loss = 3.41979e+10, step = 22901 (0.264 sec)\n",
      "INFO:tensorflow:global_step/sec: 339.57\n",
      "INFO:tensorflow:loss = 1.32302e+11, step = 23001 (0.294 sec)\n",
      "INFO:tensorflow:global_step/sec: 342.21\n",
      "INFO:tensorflow:loss = 8.81192e+10, step = 23101 (0.289 sec)\n",
      "INFO:tensorflow:global_step/sec: 271.13\n",
      "INFO:tensorflow:loss = 1.02519e+11, step = 23201 (0.369 sec)\n",
      "INFO:tensorflow:global_step/sec: 279.405\n",
      "INFO:tensorflow:loss = 5.86022e+10, step = 23301 (0.358 sec)\n",
      "INFO:tensorflow:global_step/sec: 332.75\n",
      "INFO:tensorflow:loss = 6.82803e+10, step = 23401 (0.302 sec)\n",
      "INFO:tensorflow:global_step/sec: 292.919\n",
      "INFO:tensorflow:loss = 9.42831e+10, step = 23501 (0.350 sec)\n",
      "INFO:tensorflow:global_step/sec: 272.766\n",
      "INFO:tensorflow:loss = 5.63642e+10, step = 23601 (0.365 sec)\n",
      "INFO:tensorflow:global_step/sec: 302.184\n",
      "INFO:tensorflow:loss = 7.27927e+10, step = 23701 (0.323 sec)\n",
      "INFO:tensorflow:global_step/sec: 263.646\n",
      "INFO:tensorflow:loss = 1.09247e+11, step = 23801 (0.380 sec)\n",
      "INFO:tensorflow:global_step/sec: 313.15\n",
      "INFO:tensorflow:loss = 1.71459e+11, step = 23901 (0.319 sec)\n",
      "INFO:tensorflow:global_step/sec: 277.5\n",
      "INFO:tensorflow:loss = 1.26011e+11, step = 24001 (0.360 sec)\n",
      "INFO:tensorflow:global_step/sec: 348.818\n",
      "INFO:tensorflow:loss = 1.30313e+11, step = 24101 (0.287 sec)\n"
     ]
    },
    {
     "name": "stdout",
     "output_type": "stream",
     "text": [
      "INFO:tensorflow:global_step/sec: 284.912\n",
      "INFO:tensorflow:loss = 5.54859e+10, step = 24201 (0.352 sec)\n",
      "INFO:tensorflow:global_step/sec: 294.378\n",
      "INFO:tensorflow:loss = 3.72361e+10, step = 24301 (0.351 sec)\n",
      "INFO:tensorflow:global_step/sec: 310.431\n",
      "INFO:tensorflow:loss = 7.19367e+10, step = 24401 (0.315 sec)\n",
      "INFO:tensorflow:global_step/sec: 280.979\n",
      "INFO:tensorflow:loss = 3.93174e+10, step = 24501 (0.360 sec)\n",
      "INFO:tensorflow:global_step/sec: 316.402\n",
      "INFO:tensorflow:loss = 9.06301e+10, step = 24601 (0.312 sec)\n",
      "INFO:tensorflow:global_step/sec: 264.49\n",
      "INFO:tensorflow:loss = 7.36578e+10, step = 24701 (0.374 sec)\n",
      "INFO:tensorflow:global_step/sec: 359.602\n",
      "INFO:tensorflow:loss = 6.48113e+10, step = 24801 (0.285 sec)\n",
      "INFO:tensorflow:global_step/sec: 268.407\n",
      "INFO:tensorflow:loss = 7.76541e+10, step = 24901 (0.370 sec)\n",
      "INFO:tensorflow:Saving checkpoints for 25000 into /var/folders/7b/2llsq3xs5wv7lqvjqk93v0100000gp/T/tmpzx_357em/model.ckpt.\n",
      "INFO:tensorflow:Loss for final step: 6.48609e+10.\n"
     ]
    },
    {
     "data": {
      "text/plain": [
       "<tensorflow.python.estimator.canned.dnn.DNNRegressor at 0x117355b38>"
      ]
     },
     "execution_count": 20,
     "metadata": {},
     "output_type": "execute_result"
    }
   ],
   "source": [
    "model.train(input_fn=input_fun,steps=25000)"
   ]
  },
  {
   "cell_type": "markdown",
   "metadata": {},
   "source": [
    "** Create a prediction input function and then use the .predict method off your estimator model to create a list or predictions on your test data. **"
   ]
  },
  {
   "cell_type": "code",
   "execution_count": 21,
   "metadata": {
    "collapsed": true
   },
   "outputs": [],
   "source": [
    "predict_input_fun = tf.estimator.inputs.pandas_input_fn(x=X_test,batch_size=10,num_epochs=1,shuffle=False)"
   ]
  },
  {
   "cell_type": "code",
   "execution_count": 22,
   "metadata": {
    "collapsed": true
   },
   "outputs": [],
   "source": [
    "predictions = model.predict(input_fn=predict_input_fun)"
   ]
  },
  {
   "cell_type": "code",
   "execution_count": 23,
   "metadata": {},
   "outputs": [
    {
     "data": {
      "text/plain": [
       "<generator object Estimator.predict at 0x11733cca8>"
      ]
     },
     "execution_count": 23,
     "metadata": {},
     "output_type": "execute_result"
    }
   ],
   "source": [
    "predictions"
   ]
  },
  {
   "cell_type": "code",
   "execution_count": 24,
   "metadata": {},
   "outputs": [
    {
     "name": "stdout",
     "output_type": "stream",
     "text": [
      "INFO:tensorflow:Restoring parameters from /var/folders/7b/2llsq3xs5wv7lqvjqk93v0100000gp/T/tmpzx_357em/model.ckpt-25000\n"
     ]
    }
   ],
   "source": [
    "predictions = list(predictions)"
   ]
  },
  {
   "cell_type": "markdown",
   "metadata": {},
   "source": [
    "** Calculate the RMSE. You should be able to get around 100,000 RMSE (remember that this is in the same units as the label.) Do this manually or use [sklearn.metrics](http://scikit-learn.org/stable/modules/generated/sklearn.metrics.mean_squared_error.html) **"
   ]
  },
  {
   "cell_type": "code",
   "execution_count": 25,
   "metadata": {},
   "outputs": [],
   "source": [
    "final_preds = []\n",
    "for pred in predictions:\n",
    "    final_preds.append(pred['predictions'])"
   ]
  },
  {
   "cell_type": "code",
   "execution_count": 26,
   "metadata": {
    "collapsed": true
   },
   "outputs": [],
   "source": [
    "from sklearn.metrics import mean_squared_error"
   ]
  },
  {
   "cell_type": "code",
   "execution_count": 27,
   "metadata": {},
   "outputs": [
    {
     "data": {
      "text/plain": [
       "97818.494400881347"
      ]
     },
     "execution_count": 27,
     "metadata": {},
     "output_type": "execute_result"
    }
   ],
   "source": [
    "mean_squared_error(y_test,final_preds)**0.5"
   ]
  },
  {
   "cell_type": "markdown",
   "metadata": {},
   "source": [
    "# Great Job!"
   ]
  }
 ],
 "metadata": {
  "kernelspec": {
   "display_name": "Python 3",
   "language": "python",
   "name": "python3"
  },
  "language_info": {
   "codemirror_mode": {
    "name": "ipython",
    "version": 3
   },
   "file_extension": ".py",
   "mimetype": "text/x-python",
   "name": "python",
   "nbconvert_exporter": "python",
   "pygments_lexer": "ipython3",
   "version": "3.6.1"
  }
 },
 "nbformat": 4,
 "nbformat_minor": 2
}
