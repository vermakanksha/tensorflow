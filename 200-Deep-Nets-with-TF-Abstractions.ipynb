{
 "cells": [
  {
   "cell_type": "markdown",
   "metadata": {},
   "source": [
    "# Deep Nets with TF Abstractions\n",
    "\n",
    "Let's explore a few of the various abstractions that TensorFlow offers. You can check out the tf.contrib documentation for more options."
   ]
  },
  {
   "cell_type": "markdown",
   "metadata": {},
   "source": [
    "# The Data"
   ]
  },
  {
   "cell_type": "markdown",
   "metadata": {},
   "source": [
    "To compare these various abstractions we'll use a dataset easily available from the SciKit Learn library. The data is comprised of the results of a chemical analysis of wines grown in the same region in Italy by three different cultivators. There are thirteen different\n",
    "measurements taken for different constituents found in the three types of wine. We will use the various TF Abstractions to classify the wine to one of the 3 possible labels.\n",
    "\n",
    "First let's show you how to get the data:"
   ]
  },
  {
   "cell_type": "code",
   "execution_count": 1,
   "metadata": {},
   "outputs": [],
   "source": [
    "from sklearn.datasets import load_iris"
   ]
  },
  {
   "cell_type": "code",
   "execution_count": 2,
   "metadata": {
    "collapsed": true
   },
   "outputs": [],
   "source": [
    "iris_data = load_iris()"
   ]
  },
  {
   "cell_type": "code",
   "execution_count": 3,
   "metadata": {},
   "outputs": [
    {
     "data": {
      "text/plain": [
       "sklearn.datasets.base.Bunch"
      ]
     },
     "execution_count": 3,
     "metadata": {},
     "output_type": "execute_result"
    }
   ],
   "source": [
    "type(iris_data)"
   ]
  },
  {
   "cell_type": "code",
   "execution_count": 4,
   "metadata": {},
   "outputs": [
    {
     "data": {
      "text/plain": [
       "dict_keys(['data', 'target', 'target_names', 'DESCR', 'feature_names'])"
      ]
     },
     "execution_count": 4,
     "metadata": {},
     "output_type": "execute_result"
    }
   ],
   "source": [
    "iris_data.keys()"
   ]
  },
  {
   "cell_type": "code",
   "execution_count": 5,
   "metadata": {},
   "outputs": [
    {
     "name": "stdout",
     "output_type": "stream",
     "text": [
      "Iris Plants Database\n",
      "====================\n",
      "\n",
      "Notes\n",
      "-----\n",
      "Data Set Characteristics:\n",
      "    :Number of Instances: 150 (50 in each of three classes)\n",
      "    :Number of Attributes: 4 numeric, predictive attributes and the class\n",
      "    :Attribute Information:\n",
      "        - sepal length in cm\n",
      "        - sepal width in cm\n",
      "        - petal length in cm\n",
      "        - petal width in cm\n",
      "        - class:\n",
      "                - Iris-Setosa\n",
      "                - Iris-Versicolour\n",
      "                - Iris-Virginica\n",
      "    :Summary Statistics:\n",
      "\n",
      "    ============== ==== ==== ======= ===== ====================\n",
      "                    Min  Max   Mean    SD   Class Correlation\n",
      "    ============== ==== ==== ======= ===== ====================\n",
      "    sepal length:   4.3  7.9   5.84   0.83    0.7826\n",
      "    sepal width:    2.0  4.4   3.05   0.43   -0.4194\n",
      "    petal length:   1.0  6.9   3.76   1.76    0.9490  (high!)\n",
      "    petal width:    0.1  2.5   1.20  0.76     0.9565  (high!)\n",
      "    ============== ==== ==== ======= ===== ====================\n",
      "\n",
      "    :Missing Attribute Values: None\n",
      "    :Class Distribution: 33.3% for each of 3 classes.\n",
      "    :Creator: R.A. Fisher\n",
      "    :Donor: Michael Marshall (MARSHALL%PLU@io.arc.nasa.gov)\n",
      "    :Date: July, 1988\n",
      "\n",
      "This is a copy of UCI ML iris datasets.\n",
      "http://archive.ics.uci.edu/ml/datasets/Iris\n",
      "\n",
      "The famous Iris database, first used by Sir R.A Fisher\n",
      "\n",
      "This is perhaps the best known database to be found in the\n",
      "pattern recognition literature.  Fisher's paper is a classic in the field and\n",
      "is referenced frequently to this day.  (See Duda & Hart, for example.)  The\n",
      "data set contains 3 classes of 50 instances each, where each class refers to a\n",
      "type of iris plant.  One class is linearly separable from the other 2; the\n",
      "latter are NOT linearly separable from each other.\n",
      "\n",
      "References\n",
      "----------\n",
      "   - Fisher,R.A. \"The use of multiple measurements in taxonomic problems\"\n",
      "     Annual Eugenics, 7, Part II, 179-188 (1936); also in \"Contributions to\n",
      "     Mathematical Statistics\" (John Wiley, NY, 1950).\n",
      "   - Duda,R.O., & Hart,P.E. (1973) Pattern Classification and Scene Analysis.\n",
      "     (Q327.D83) John Wiley & Sons.  ISBN 0-471-22361-1.  See page 218.\n",
      "   - Dasarathy, B.V. (1980) \"Nosing Around the Neighborhood: A New System\n",
      "     Structure and Classification Rule for Recognition in Partially Exposed\n",
      "     Environments\".  IEEE Transactions on Pattern Analysis and Machine\n",
      "     Intelligence, Vol. PAMI-2, No. 1, 67-71.\n",
      "   - Gates, G.W. (1972) \"The Reduced Nearest Neighbor Rule\".  IEEE Transactions\n",
      "     on Information Theory, May 1972, 431-433.\n",
      "   - See also: 1988 MLC Proceedings, 54-64.  Cheeseman et al\"s AUTOCLASS II\n",
      "     conceptual clustering system finds 3 classes in the data.\n",
      "   - Many, many more ...\n",
      "\n"
     ]
    }
   ],
   "source": [
    "print(iris_data.DESCR)"
   ]
  },
  {
   "cell_type": "code",
   "execution_count": 6,
   "metadata": {
    "collapsed": true
   },
   "outputs": [],
   "source": [
    "feat_data = iris_data['data']"
   ]
  },
  {
   "cell_type": "code",
   "execution_count": 7,
   "metadata": {
    "collapsed": true
   },
   "outputs": [],
   "source": [
    "labels = iris_data['target']"
   ]
  },
  {
   "cell_type": "markdown",
   "metadata": {},
   "source": [
    "### Train Test Split"
   ]
  },
  {
   "cell_type": "code",
   "execution_count": 8,
   "metadata": {
    "collapsed": true
   },
   "outputs": [],
   "source": [
    "from sklearn.model_selection import train_test_split"
   ]
  },
  {
   "cell_type": "code",
   "execution_count": 9,
   "metadata": {
    "collapsed": true
   },
   "outputs": [],
   "source": [
    "X_train, X_test, y_train, y_test = train_test_split(feat_data,\n",
    "                                                    labels,\n",
    "                                                    test_size=0.3,\n",
    "                                                   random_state=101)"
   ]
  },
  {
   "cell_type": "markdown",
   "metadata": {},
   "source": [
    "### Scale the Data"
   ]
  },
  {
   "cell_type": "code",
   "execution_count": 10,
   "metadata": {
    "collapsed": true
   },
   "outputs": [],
   "source": [
    "from sklearn.preprocessing import MinMaxScaler"
   ]
  },
  {
   "cell_type": "code",
   "execution_count": 11,
   "metadata": {
    "collapsed": true
   },
   "outputs": [],
   "source": [
    "scaler = MinMaxScaler()"
   ]
  },
  {
   "cell_type": "code",
   "execution_count": 12,
   "metadata": {
    "collapsed": true
   },
   "outputs": [],
   "source": [
    "scaled_x_train = scaler.fit_transform(X_train)"
   ]
  },
  {
   "cell_type": "code",
   "execution_count": 13,
   "metadata": {
    "collapsed": true
   },
   "outputs": [],
   "source": [
    "scaled_x_test = scaler.transform(X_test)"
   ]
  },
  {
   "cell_type": "markdown",
   "metadata": {},
   "source": [
    "# Abstractions"
   ]
  },
  {
   "cell_type": "markdown",
   "metadata": {},
   "source": [
    "## Estimator API"
   ]
  },
  {
   "cell_type": "code",
   "execution_count": 14,
   "metadata": {
    "collapsed": true
   },
   "outputs": [],
   "source": [
    "import tensorflow as tf"
   ]
  },
  {
   "cell_type": "code",
   "execution_count": 15,
   "metadata": {
    "collapsed": true
   },
   "outputs": [],
   "source": [
    "from tensorflow import estimator "
   ]
  },
  {
   "cell_type": "code",
   "execution_count": 16,
   "metadata": {},
   "outputs": [
    {
     "data": {
      "text/plain": [
       "(105, 4)"
      ]
     },
     "execution_count": 16,
     "metadata": {},
     "output_type": "execute_result"
    }
   ],
   "source": [
    "X_train.shape"
   ]
  },
  {
   "cell_type": "code",
   "execution_count": 17,
   "metadata": {
    "collapsed": true
   },
   "outputs": [],
   "source": [
    "feat_cols = [tf.feature_column.numeric_column(\"x\", shape=[4])]"
   ]
  },
  {
   "cell_type": "code",
   "execution_count": 18,
   "metadata": {},
   "outputs": [
    {
     "name": "stdout",
     "output_type": "stream",
     "text": [
      "INFO:tensorflow:Using default config.\n",
      "WARNING:tensorflow:Using temporary folder as model directory: /var/folders/7b/2llsq3xs5wv7lqvjqk93v0100000gp/T/tmp6ozhopkw\n",
      "INFO:tensorflow:Using config: {'_model_dir': '/var/folders/7b/2llsq3xs5wv7lqvjqk93v0100000gp/T/tmp6ozhopkw', '_tf_random_seed': 1, '_save_summary_steps': 100, '_save_checkpoints_secs': 600, '_save_checkpoints_steps': None, '_session_config': None, '_keep_checkpoint_max': 5, '_keep_checkpoint_every_n_hours': 10000, '_log_step_count_steps': 100}\n"
     ]
    }
   ],
   "source": [
    "deep_model = estimator.DNNClassifier(hidden_units=[4,4,4],\n",
    "                            feature_columns=feat_cols,\n",
    "                            n_classes=3,\n",
    "                            optimizer=tf.train.GradientDescentOptimizer(learning_rate=0.01) )"
   ]
  },
  {
   "cell_type": "code",
   "execution_count": 19,
   "metadata": {
    "collapsed": true
   },
   "outputs": [],
   "source": [
    "input_fn = estimator.inputs.numpy_input_fn(x={'x':scaled_x_train},y=y_train,shuffle=True,batch_size=10,num_epochs=5)"
   ]
  },
  {
   "cell_type": "code",
   "execution_count": 20,
   "metadata": {
    "scrolled": true
   },
   "outputs": [
    {
     "name": "stdout",
     "output_type": "stream",
     "text": [
      "INFO:tensorflow:Create CheckpointSaverHook.\n",
      "INFO:tensorflow:Saving checkpoints for 1 into /var/folders/7b/2llsq3xs5wv7lqvjqk93v0100000gp/T/tmp6ozhopkw/model.ckpt.\n",
      "INFO:tensorflow:loss = 11.3649, step = 1\n",
      "INFO:tensorflow:Saving checkpoints for 53 into /var/folders/7b/2llsq3xs5wv7lqvjqk93v0100000gp/T/tmp6ozhopkw/model.ckpt.\n",
      "INFO:tensorflow:Loss for final step: 3.83326.\n"
     ]
    },
    {
     "data": {
      "text/plain": [
       "<tensorflow.python.estimator.canned.dnn.DNNClassifier at 0x1186e22b0>"
      ]
     },
     "execution_count": 20,
     "metadata": {},
     "output_type": "execute_result"
    }
   ],
   "source": [
    "deep_model.train(input_fn=input_fn,steps=500)"
   ]
  },
  {
   "cell_type": "code",
   "execution_count": 21,
   "metadata": {
    "collapsed": true
   },
   "outputs": [],
   "source": [
    "input_fn_eval = estimator.inputs.numpy_input_fn(x={'x':scaled_x_test},shuffle=False)"
   ]
  },
  {
   "cell_type": "code",
   "execution_count": 22,
   "metadata": {},
   "outputs": [
    {
     "name": "stdout",
     "output_type": "stream",
     "text": [
      "INFO:tensorflow:Restoring parameters from /var/folders/7b/2llsq3xs5wv7lqvjqk93v0100000gp/T/tmp6ozhopkw/model.ckpt-53\n"
     ]
    }
   ],
   "source": [
    "preds = list(deep_model.predict(input_fn=input_fn_eval))"
   ]
  },
  {
   "cell_type": "code",
   "execution_count": 23,
   "metadata": {
    "collapsed": true
   },
   "outputs": [],
   "source": [
    "predictions = [p['class_ids'][0] for p in preds]"
   ]
  },
  {
   "cell_type": "code",
   "execution_count": 24,
   "metadata": {
    "collapsed": true
   },
   "outputs": [],
   "source": [
    "from sklearn.metrics import confusion_matrix,classification_report"
   ]
  },
  {
   "cell_type": "code",
   "execution_count": 25,
   "metadata": {},
   "outputs": [
    {
     "name": "stdout",
     "output_type": "stream",
     "text": [
      "             precision    recall  f1-score   support\n",
      "\n",
      "          0       1.00      1.00      1.00        13\n",
      "          1       0.00      0.00      0.00        20\n",
      "          2       0.38      1.00      0.55        12\n",
      "\n",
      "avg / total       0.39      0.56      0.43        45\n",
      "\n"
     ]
    },
    {
     "name": "stderr",
     "output_type": "stream",
     "text": [
      "/Users/admin/anaconda/lib/python3.6/site-packages/sklearn/metrics/classification.py:1113: UndefinedMetricWarning: Precision and F-score are ill-defined and being set to 0.0 in labels with no predicted samples.\n",
      "  'precision', 'predicted', average, warn_for)\n"
     ]
    }
   ],
   "source": [
    "print(classification_report(y_test,predictions))"
   ]
  },
  {
   "cell_type": "markdown",
   "metadata": {},
   "source": [
    "____________\n",
    "______________"
   ]
  },
  {
   "cell_type": "markdown",
   "metadata": {},
   "source": [
    "# TensorFlow Keras"
   ]
  },
  {
   "cell_type": "markdown",
   "metadata": {},
   "source": [
    "### Create the Model"
   ]
  },
  {
   "cell_type": "code",
   "execution_count": 26,
   "metadata": {
    "collapsed": true
   },
   "outputs": [],
   "source": [
    "from tensorflow.contrib.keras import models"
   ]
  },
  {
   "cell_type": "code",
   "execution_count": 27,
   "metadata": {
    "collapsed": true
   },
   "outputs": [],
   "source": [
    "dnn_keras_model = models.Sequential()"
   ]
  },
  {
   "cell_type": "markdown",
   "metadata": {},
   "source": [
    "### Add Layers to the model"
   ]
  },
  {
   "cell_type": "code",
   "execution_count": 28,
   "metadata": {
    "collapsed": true
   },
   "outputs": [],
   "source": [
    "from tensorflow.contrib.keras import layers"
   ]
  },
  {
   "cell_type": "code",
   "execution_count": 29,
   "metadata": {
    "collapsed": true
   },
   "outputs": [],
   "source": [
    "dnn_keras_model.add(layers.Dense(units=4,input_dim=4,activation='relu'))"
   ]
  },
  {
   "cell_type": "code",
   "execution_count": 30,
   "metadata": {
    "collapsed": true
   },
   "outputs": [],
   "source": [
    "dnn_keras_model.add(layers.Dense(units=4,activation='relu'))\n",
    "dnn_keras_model.add(layers.Dense(units=4,activation='relu'))"
   ]
  },
  {
   "cell_type": "code",
   "execution_count": 31,
   "metadata": {
    "collapsed": true
   },
   "outputs": [],
   "source": [
    "dnn_keras_model.add(layers.Dense(units=3,activation='softmax'))"
   ]
  },
  {
   "cell_type": "markdown",
   "metadata": {},
   "source": [
    "### Compile the Model"
   ]
  },
  {
   "cell_type": "code",
   "execution_count": 32,
   "metadata": {
    "collapsed": true
   },
   "outputs": [],
   "source": [
    "from tensorflow.contrib.keras import losses,optimizers,metrics"
   ]
  },
  {
   "cell_type": "code",
   "execution_count": 33,
   "metadata": {},
   "outputs": [
    {
     "data": {
      "text/plain": [
       "<function tensorflow.contrib.keras.python.keras.losses.sparse_categorical_crossentropy>"
      ]
     },
     "execution_count": 33,
     "metadata": {},
     "output_type": "execute_result"
    }
   ],
   "source": [
    "losses.sparse_categorical_crossentropy"
   ]
  },
  {
   "cell_type": "code",
   "execution_count": 34,
   "metadata": {
    "collapsed": true
   },
   "outputs": [],
   "source": [
    "dnn_keras_model.compile(optimizer='adam',\n",
    "              loss='sparse_categorical_crossentropy',\n",
    "              metrics=['accuracy'])"
   ]
  },
  {
   "cell_type": "markdown",
   "metadata": {},
   "source": [
    "### Train Model"
   ]
  },
  {
   "cell_type": "code",
   "execution_count": 35,
   "metadata": {},
   "outputs": [
    {
     "name": "stdout",
     "output_type": "stream",
     "text": [
      "Epoch 1/50\n",
      "105/105 [==============================] - 0s - loss: 1.0941 - acc: 0.5905     \n",
      "Epoch 2/50\n",
      "105/105 [==============================] - 0s - loss: 1.0905 - acc: 0.6190     \n",
      "Epoch 3/50\n",
      "105/105 [==============================] - 0s - loss: 1.0856 - acc: 0.6286     \n",
      "Epoch 4/50\n",
      "105/105 [==============================] - 0s - loss: 1.0796 - acc: 0.6286     \n",
      "Epoch 5/50\n",
      "105/105 [==============================] - 0s - loss: 1.0735 - acc: 0.6286     \n",
      "Epoch 6/50\n",
      "105/105 [==============================] - 0s - loss: 1.0676 - acc: 0.6286     \n",
      "Epoch 7/50\n",
      "105/105 [==============================] - 0s - loss: 1.0619 - acc: 0.6286     \n",
      "Epoch 8/50\n",
      "105/105 [==============================] - 0s - loss: 1.0552 - acc: 0.6286     \n",
      "Epoch 9/50\n",
      "105/105 [==============================] - 0s - loss: 1.0488 - acc: 0.6286     \n",
      "Epoch 10/50\n",
      "105/105 [==============================] - 0s - loss: 1.0424 - acc: 0.6286     \n",
      "Epoch 11/50\n",
      "105/105 [==============================] - ETA: 0s - loss: 1.0249 - acc: 0.687 - 0s - loss: 1.0358 - acc: 0.6381     \n",
      "Epoch 12/50\n",
      "105/105 [==============================] - 0s - loss: 1.0286 - acc: 0.6571     \n",
      "Epoch 13/50\n",
      "105/105 [==============================] - 0s - loss: 1.0216 - acc: 0.6667     \n",
      "Epoch 14/50\n",
      "105/105 [==============================] - 0s - loss: 1.0142 - acc: 0.6667     \n",
      "Epoch 15/50\n",
      "105/105 [==============================] - 0s - loss: 1.0067 - acc: 0.6762     \n",
      "Epoch 16/50\n",
      "105/105 [==============================] - 0s - loss: 0.9986 - acc: 0.6857     \n",
      "Epoch 17/50\n",
      "105/105 [==============================] - 0s - loss: 0.9906 - acc: 0.6952     \n",
      "Epoch 18/50\n",
      "105/105 [==============================] - 0s - loss: 0.9818 - acc: 0.7143     \n",
      "Epoch 19/50\n",
      "105/105 [==============================] - 0s - loss: 0.9726 - acc: 0.7143     \n",
      "Epoch 20/50\n",
      "105/105 [==============================] - 0s - loss: 0.9639 - acc: 0.7143     \n",
      "Epoch 21/50\n",
      "105/105 [==============================] - 0s - loss: 0.9547 - acc: 0.7143     \n",
      "Epoch 22/50\n",
      "105/105 [==============================] - 0s - loss: 0.9451 - acc: 0.7143     \n",
      "Epoch 23/50\n",
      "105/105 [==============================] - 0s - loss: 0.9361 - acc: 0.7143     \n",
      "Epoch 24/50\n",
      "105/105 [==============================] - 0s - loss: 0.9261 - acc: 0.7143     \n",
      "Epoch 25/50\n",
      "105/105 [==============================] - 0s - loss: 0.9168 - acc: 0.7143     \n",
      "Epoch 26/50\n",
      "105/105 [==============================] - 0s - loss: 0.9069 - acc: 0.7143     \n",
      "Epoch 27/50\n",
      "105/105 [==============================] - 0s - loss: 0.8974 - acc: 0.7143     \n",
      "Epoch 28/50\n",
      "105/105 [==============================] - 0s - loss: 0.8880 - acc: 0.7143     \n",
      "Epoch 29/50\n",
      "105/105 [==============================] - 0s - loss: 0.8780 - acc: 0.7143     \n",
      "Epoch 30/50\n",
      "105/105 [==============================] - 0s - loss: 0.8682 - acc: 0.7143     \n",
      "Epoch 31/50\n",
      "105/105 [==============================] - 0s - loss: 0.8583 - acc: 0.7143     \n",
      "Epoch 32/50\n",
      "105/105 [==============================] - 0s - loss: 0.8492 - acc: 0.7143     \n",
      "Epoch 33/50\n",
      "105/105 [==============================] - 0s - loss: 0.8391 - acc: 0.7143     \n",
      "Epoch 34/50\n",
      "105/105 [==============================] - 0s - loss: 0.8296 - acc: 0.7143     \n",
      "Epoch 35/50\n",
      "105/105 [==============================] - 0s - loss: 0.8203 - acc: 0.7143     \n",
      "Epoch 36/50\n",
      "105/105 [==============================] - 0s - loss: 0.8106 - acc: 0.7143     \n",
      "Epoch 37/50\n",
      "105/105 [==============================] - 0s - loss: 0.8014 - acc: 0.7143     \n",
      "Epoch 38/50\n",
      "105/105 [==============================] - 0s - loss: 0.7925 - acc: 0.7143     \n",
      "Epoch 39/50\n",
      "105/105 [==============================] - 0s - loss: 0.7834 - acc: 0.7143     \n",
      "Epoch 40/50\n",
      "105/105 [==============================] - 0s - loss: 0.7747 - acc: 0.7143     \n",
      "Epoch 41/50\n",
      "105/105 [==============================] - 0s - loss: 0.7662 - acc: 0.7143     \n",
      "Epoch 42/50\n",
      "105/105 [==============================] - 0s - loss: 0.7579 - acc: 0.7143     \n",
      "Epoch 43/50\n",
      "105/105 [==============================] - 0s - loss: 0.7498 - acc: 0.7143     \n",
      "Epoch 44/50\n",
      "105/105 [==============================] - ETA: 0s - loss: 0.8603 - acc: 0.625 - 0s - loss: 0.7420 - acc: 0.7143     \n",
      "Epoch 45/50\n",
      "105/105 [==============================] - 0s - loss: 0.7343 - acc: 0.7143     \n",
      "Epoch 46/50\n",
      "105/105 [==============================] - ETA: 0s - loss: 0.8442 - acc: 0.687 - 0s - loss: 0.7267 - acc: 0.7143     \n",
      "Epoch 47/50\n",
      "105/105 [==============================] - 0s - loss: 0.7195 - acc: 0.7143     \n",
      "Epoch 48/50\n",
      "105/105 [==============================] - 0s - loss: 0.7123 - acc: 0.7143     \n",
      "Epoch 49/50\n",
      "105/105 [==============================] - 0s - loss: 0.7055 - acc: 0.7143     \n",
      "Epoch 50/50\n",
      "105/105 [==============================] - 0s - loss: 0.6985 - acc: 0.7143     \n"
     ]
    },
    {
     "data": {
      "text/plain": [
       "<tensorflow.contrib.keras.python.keras.callbacks.History at 0x11c93fe10>"
      ]
     },
     "execution_count": 35,
     "metadata": {},
     "output_type": "execute_result"
    }
   ],
   "source": [
    "dnn_keras_model.fit(scaled_x_train,y_train,epochs=50)"
   ]
  },
  {
   "cell_type": "code",
   "execution_count": 36,
   "metadata": {},
   "outputs": [
    {
     "name": "stdout",
     "output_type": "stream",
     "text": [
      "\r",
      "32/45 [====================>.........] - ETA: 0s"
     ]
    }
   ],
   "source": [
    "predictions = dnn_keras_model.predict_classes(scaled_x_test)"
   ]
  },
  {
   "cell_type": "code",
   "execution_count": 37,
   "metadata": {},
   "outputs": [
    {
     "name": "stdout",
     "output_type": "stream",
     "text": [
      "             precision    recall  f1-score   support\n",
      "\n",
      "          0       1.00      1.00      1.00        13\n",
      "          1       0.00      0.00      0.00         0\n",
      "          2       1.00      0.38      0.55        32\n",
      "\n",
      "avg / total       1.00      0.56      0.68        45\n",
      "\n"
     ]
    },
    {
     "name": "stderr",
     "output_type": "stream",
     "text": [
      "/Users/admin/anaconda/lib/python3.6/site-packages/sklearn/metrics/classification.py:1115: UndefinedMetricWarning: Recall and F-score are ill-defined and being set to 0.0 in labels with no true samples.\n",
      "  'recall', 'true', average, warn_for)\n"
     ]
    }
   ],
   "source": [
    "print(classification_report(predictions,y_test))"
   ]
  },
  {
   "cell_type": "markdown",
   "metadata": {},
   "source": [
    "____________\n",
    "______________"
   ]
  },
  {
   "cell_type": "markdown",
   "metadata": {},
   "source": [
    "# Layers API\n",
    "\n",
    "https://www.tensorflow.org/tutorials/layers"
   ]
  },
  {
   "cell_type": "markdown",
   "metadata": {},
   "source": [
    "## Formating Data"
   ]
  },
  {
   "cell_type": "code",
   "execution_count": 38,
   "metadata": {
    "collapsed": true
   },
   "outputs": [],
   "source": [
    "import pandas as pd\n",
    "from sklearn.datasets import load_iris\n",
    "from sklearn.model_selection import train_test_split\n",
    "from sklearn.preprocessing import MinMaxScaler"
   ]
  },
  {
   "cell_type": "code",
   "execution_count": 39,
   "metadata": {
    "collapsed": true
   },
   "outputs": [],
   "source": [
    "iris_data = load_iris()\n",
    "feat_data = iris_data['data']\n",
    "labels = iris_data['target']"
   ]
  },
  {
   "cell_type": "code",
   "execution_count": 40,
   "metadata": {
    "collapsed": true
   },
   "outputs": [],
   "source": [
    "X_train, X_test, y_train, y_test = train_test_split(feat_data,\n",
    "                                                    labels,\n",
    "                                                    test_size=0.3,\n",
    "                                                   random_state=101)"
   ]
  },
  {
   "cell_type": "code",
   "execution_count": 41,
   "metadata": {
    "collapsed": true
   },
   "outputs": [],
   "source": [
    "scaler = MinMaxScaler()\n",
    "scaled_x_train = scaler.fit_transform(X_train)\n",
    "scaled_x_test = scaler.transform(X_test)\n",
    "# ONE HOT ENCODED\n",
    "onehot_y_train = pd.get_dummies(y_train).as_matrix()\n",
    "one_hot_y_test = pd.get_dummies(y_test).as_matrix()"
   ]
  },
  {
   "cell_type": "markdown",
   "metadata": {},
   "source": [
    "### Parameters"
   ]
  },
  {
   "cell_type": "code",
   "execution_count": 42,
   "metadata": {
    "collapsed": true
   },
   "outputs": [],
   "source": [
    "num_feat = 4\n",
    "num_hidden1 = 4\n",
    "num_hidden2 = 4\n",
    "num_outputs = 3\n",
    "learning_rate = 0.01"
   ]
  },
  {
   "cell_type": "code",
   "execution_count": 43,
   "metadata": {
    "collapsed": true
   },
   "outputs": [],
   "source": [
    "import tensorflow as tf\n",
    "from tensorflow.contrib.layers import fully_connected"
   ]
  },
  {
   "cell_type": "markdown",
   "metadata": {},
   "source": [
    "### Placeholder"
   ]
  },
  {
   "cell_type": "code",
   "execution_count": 44,
   "metadata": {
    "collapsed": true
   },
   "outputs": [],
   "source": [
    "X = tf.placeholder(tf.float32,shape=[None,num_feat])\n",
    "y_true = tf.placeholder(tf.float32,shape=[None,3])"
   ]
  },
  {
   "cell_type": "markdown",
   "metadata": {},
   "source": [
    "### Activation Function"
   ]
  },
  {
   "cell_type": "code",
   "execution_count": 45,
   "metadata": {
    "collapsed": true
   },
   "outputs": [],
   "source": [
    "actf = tf.nn.relu"
   ]
  },
  {
   "cell_type": "markdown",
   "metadata": {},
   "source": [
    "### Create Layers"
   ]
  },
  {
   "cell_type": "code",
   "execution_count": 46,
   "metadata": {
    "collapsed": true
   },
   "outputs": [],
   "source": [
    "hidden1 = fully_connected(X,num_hidden1,activation_fn=actf)"
   ]
  },
  {
   "cell_type": "code",
   "execution_count": 47,
   "metadata": {
    "collapsed": true
   },
   "outputs": [],
   "source": [
    "hidden2 = fully_connected(hidden1,num_hidden2,activation_fn=actf)"
   ]
  },
  {
   "cell_type": "code",
   "execution_count": 48,
   "metadata": {
    "collapsed": true
   },
   "outputs": [],
   "source": [
    "output = fully_connected(hidden2,num_outputs)"
   ]
  },
  {
   "cell_type": "markdown",
   "metadata": {},
   "source": [
    "### Loss Function"
   ]
  },
  {
   "cell_type": "code",
   "execution_count": 49,
   "metadata": {
    "collapsed": true
   },
   "outputs": [],
   "source": [
    "loss = tf.losses.softmax_cross_entropy(onehot_labels=y_true, logits=output)"
   ]
  },
  {
   "cell_type": "markdown",
   "metadata": {},
   "source": [
    "### Optimizer"
   ]
  },
  {
   "cell_type": "code",
   "execution_count": 50,
   "metadata": {
    "collapsed": true
   },
   "outputs": [],
   "source": [
    "optimizer = tf.train.AdamOptimizer(learning_rate)\n",
    "train = optimizer.minimize(loss)"
   ]
  },
  {
   "cell_type": "markdown",
   "metadata": {},
   "source": [
    "### Init"
   ]
  },
  {
   "cell_type": "code",
   "execution_count": 51,
   "metadata": {
    "collapsed": true
   },
   "outputs": [],
   "source": [
    "init = tf.global_variables_initializer()"
   ]
  },
  {
   "cell_type": "code",
   "execution_count": 52,
   "metadata": {},
   "outputs": [],
   "source": [
    "training_steps = 1000\n",
    "with tf.Session() as sess:\n",
    "    sess.run(init)\n",
    "    \n",
    "    for i in range(training_steps):\n",
    "        sess.run(train,feed_dict={X:scaled_x_train,y_true:onehot_y_train})\n",
    "        \n",
    "    # Get Predictions\n",
    "    logits = output.eval(feed_dict={X:scaled_x_test})\n",
    "    \n",
    "    preds = tf.argmax(logits,axis=1)\n",
    "    \n",
    "    results = preds.eval()"
   ]
  },
  {
   "cell_type": "code",
   "execution_count": 53,
   "metadata": {},
   "outputs": [
    {
     "name": "stdout",
     "output_type": "stream",
     "text": [
      "             precision    recall  f1-score   support\n",
      "\n",
      "          0       1.00      0.29      0.45        45\n",
      "          1       0.00      0.00      0.00         0\n",
      "          2       0.00      0.00      0.00         0\n",
      "\n",
      "avg / total       1.00      0.29      0.45        45\n",
      "\n"
     ]
    },
    {
     "name": "stderr",
     "output_type": "stream",
     "text": [
      "/Users/admin/anaconda/lib/python3.6/site-packages/sklearn/metrics/classification.py:1115: UndefinedMetricWarning: Recall and F-score are ill-defined and being set to 0.0 in labels with no true samples.\n",
      "  'recall', 'true', average, warn_for)\n"
     ]
    }
   ],
   "source": [
    "from sklearn.metrics import confusion_matrix,classification_report\n",
    "print(classification_report(results,y_test))"
   ]
  }
 ],
 "metadata": {
  "anaconda-cloud": {},
  "kernelspec": {
   "display_name": "Python 3",
   "language": "python",
   "name": "python3"
  },
  "language_info": {
   "codemirror_mode": {
    "name": "ipython",
    "version": 3
   },
   "file_extension": ".py",
   "mimetype": "text/x-python",
   "name": "python",
   "nbconvert_exporter": "python",
   "pygments_lexer": "ipython3",
   "version": "3.6.1"
  }
 },
 "nbformat": 4,
 "nbformat_minor": 2
}
